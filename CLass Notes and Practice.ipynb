{
 "cells": [
  {
   "cell_type": "code",
   "execution_count": null,
   "id": "dd007b98",
   "metadata": {},
   "outputs": [],
   "source": []
  },
  {
   "cell_type": "code",
   "execution_count": null,
   "id": "2ee358e7",
   "metadata": {},
   "outputs": [],
   "source": []
  },
  {
   "cell_type": "code",
   "execution_count": 139,
   "id": "34811467",
   "metadata": {},
   "outputs": [
    {
     "data": {
      "text/plain": [
       "7144020"
      ]
     },
     "execution_count": 139,
     "metadata": {},
     "output_type": "execute_result"
    }
   ],
   "source": [
    "1588455+5555565"
   ]
  },
  {
   "cell_type": "code",
   "execution_count": 140,
   "id": "e71044a4",
   "metadata": {},
   "outputs": [
    {
     "data": {
      "text/plain": [
       "0.15985598559855985"
      ]
     },
     "execution_count": 140,
     "metadata": {},
     "output_type": "execute_result"
    }
   ],
   "source": [
    "888/5555"
   ]
  },
  {
   "cell_type": "markdown",
   "id": "2fe423b8",
   "metadata": {},
   "source": [
    "My First Class"
   ]
  },
  {
   "cell_type": "code",
   "execution_count": 141,
   "id": "8be37f5d",
   "metadata": {},
   "outputs": [],
   "source": [
    "x=10"
   ]
  },
  {
   "cell_type": "code",
   "execution_count": 142,
   "id": "31b78787",
   "metadata": {},
   "outputs": [
    {
     "name": "stdout",
     "output_type": "stream",
     "text": [
      "10\n"
     ]
    }
   ],
   "source": [
    "print(x)"
   ]
  },
  {
   "cell_type": "code",
   "execution_count": 143,
   "id": "0b786365",
   "metadata": {},
   "outputs": [
    {
     "data": {
      "text/plain": [
       "10"
      ]
     },
     "execution_count": 143,
     "metadata": {},
     "output_type": "execute_result"
    }
   ],
   "source": [
    "x"
   ]
  },
  {
   "cell_type": "code",
   "execution_count": 144,
   "id": "84c99489",
   "metadata": {},
   "outputs": [
    {
     "data": {
      "text/plain": [
       "int"
      ]
     },
     "execution_count": 144,
     "metadata": {},
     "output_type": "execute_result"
    }
   ],
   "source": [
    "type(x)"
   ]
  },
  {
   "cell_type": "code",
   "execution_count": 146,
   "id": "c39f6d24",
   "metadata": {},
   "outputs": [],
   "source": [
    "y='xx'"
   ]
  },
  {
   "cell_type": "code",
   "execution_count": 147,
   "id": "62a0ef42",
   "metadata": {
    "scrolled": true
   },
   "outputs": [
    {
     "data": {
      "text/plain": [
       "'xx'"
      ]
     },
     "execution_count": 147,
     "metadata": {},
     "output_type": "execute_result"
    }
   ],
   "source": [
    "y"
   ]
  },
  {
   "cell_type": "code",
   "execution_count": 148,
   "id": "e0e1ff2c",
   "metadata": {},
   "outputs": [
    {
     "data": {
      "text/plain": [
       "str"
      ]
     },
     "execution_count": 148,
     "metadata": {},
     "output_type": "execute_result"
    }
   ],
   "source": [
    "type(y)"
   ]
  },
  {
   "cell_type": "code",
   "execution_count": 151,
   "id": "b6f286cc",
   "metadata": {},
   "outputs": [],
   "source": [
    "y1=\"xx's\""
   ]
  },
  {
   "cell_type": "code",
   "execution_count": 152,
   "id": "50e661f5",
   "metadata": {},
   "outputs": [
    {
     "data": {
      "text/plain": [
       "\"xx's\""
      ]
     },
     "execution_count": 152,
     "metadata": {},
     "output_type": "execute_result"
    }
   ],
   "source": [
    "y1"
   ]
  },
  {
   "cell_type": "code",
   "execution_count": 153,
   "id": "11b485ad",
   "metadata": {},
   "outputs": [],
   "source": [
    "#List"
   ]
  },
  {
   "cell_type": "code",
   "execution_count": 154,
   "id": "3a4d2d4b",
   "metadata": {},
   "outputs": [],
   "source": [
    "l1=[10,20,30,'xx']"
   ]
  },
  {
   "cell_type": "code",
   "execution_count": 155,
   "id": "7e1ddf45",
   "metadata": {},
   "outputs": [
    {
     "data": {
      "text/plain": [
       "[10, 20, 30, 'xx']"
      ]
     },
     "execution_count": 155,
     "metadata": {},
     "output_type": "execute_result"
    }
   ],
   "source": [
    "l1"
   ]
  },
  {
   "cell_type": "code",
   "execution_count": 156,
   "id": "a4379975",
   "metadata": {},
   "outputs": [
    {
     "data": {
      "text/plain": [
       "list"
      ]
     },
     "execution_count": 156,
     "metadata": {},
     "output_type": "execute_result"
    }
   ],
   "source": [
    "type(l1)"
   ]
  },
  {
   "cell_type": "code",
   "execution_count": 157,
   "id": "9ac0bc87",
   "metadata": {},
   "outputs": [
    {
     "data": {
      "text/plain": [
       "10"
      ]
     },
     "execution_count": 157,
     "metadata": {},
     "output_type": "execute_result"
    }
   ],
   "source": [
    "l1[0]"
   ]
  },
  {
   "cell_type": "code",
   "execution_count": 158,
   "id": "b57aad7c",
   "metadata": {},
   "outputs": [],
   "source": [
    "l1[0]=15"
   ]
  },
  {
   "cell_type": "code",
   "execution_count": 159,
   "id": "133afc8e",
   "metadata": {},
   "outputs": [
    {
     "data": {
      "text/plain": [
       "[15, 20, 30, 'xx']"
      ]
     },
     "execution_count": 159,
     "metadata": {},
     "output_type": "execute_result"
    }
   ],
   "source": [
    "l1"
   ]
  },
  {
   "cell_type": "code",
   "execution_count": 161,
   "id": "483956d1",
   "metadata": {},
   "outputs": [
    {
     "data": {
      "text/plain": [
       "30"
      ]
     },
     "execution_count": 161,
     "metadata": {},
     "output_type": "execute_result"
    }
   ],
   "source": [
    "l1[-2]"
   ]
  },
  {
   "cell_type": "code",
   "execution_count": 162,
   "id": "492c53bd",
   "metadata": {},
   "outputs": [],
   "source": [
    "#slicing"
   ]
  },
  {
   "cell_type": "code",
   "execution_count": 163,
   "id": "f31d9374",
   "metadata": {},
   "outputs": [
    {
     "data": {
      "text/plain": [
       "[20, 30]"
      ]
     },
     "execution_count": 163,
     "metadata": {},
     "output_type": "execute_result"
    }
   ],
   "source": [
    "l1[1:3]"
   ]
  },
  {
   "cell_type": "code",
   "execution_count": 164,
   "id": "303ba6fa",
   "metadata": {},
   "outputs": [],
   "source": [
    "l1.append(40)"
   ]
  },
  {
   "cell_type": "code",
   "execution_count": 165,
   "id": "8d771a1a",
   "metadata": {},
   "outputs": [
    {
     "data": {
      "text/plain": [
       "[15, 20, 30, 'xx', 40]"
      ]
     },
     "execution_count": 165,
     "metadata": {},
     "output_type": "execute_result"
    }
   ],
   "source": [
    "l1"
   ]
  },
  {
   "cell_type": "code",
   "execution_count": 166,
   "id": "ab1b938b",
   "metadata": {},
   "outputs": [],
   "source": [
    "l1.append([50,60,70])"
   ]
  },
  {
   "cell_type": "code",
   "execution_count": 167,
   "id": "c9bb736d",
   "metadata": {},
   "outputs": [
    {
     "data": {
      "text/plain": [
       "[15, 20, 30, 'xx', 40, [50, 60, 70]]"
      ]
     },
     "execution_count": 167,
     "metadata": {},
     "output_type": "execute_result"
    }
   ],
   "source": [
    "l1"
   ]
  },
  {
   "cell_type": "code",
   "execution_count": 169,
   "id": "eac0492b",
   "metadata": {},
   "outputs": [
    {
     "data": {
      "text/plain": [
       "60"
      ]
     },
     "execution_count": 169,
     "metadata": {},
     "output_type": "execute_result"
    }
   ],
   "source": [
    "l1[-1][1]"
   ]
  },
  {
   "cell_type": "code",
   "execution_count": 170,
   "id": "9f4c87c6",
   "metadata": {},
   "outputs": [
    {
     "data": {
      "text/plain": [
       "40"
      ]
     },
     "execution_count": 170,
     "metadata": {},
     "output_type": "execute_result"
    }
   ],
   "source": [
    "l1[4]"
   ]
  },
  {
   "cell_type": "code",
   "execution_count": 171,
   "id": "e49af801",
   "metadata": {},
   "outputs": [],
   "source": [
    "l1.extend(['yy','zz'])"
   ]
  },
  {
   "cell_type": "code",
   "execution_count": 172,
   "id": "7e158566",
   "metadata": {},
   "outputs": [
    {
     "data": {
      "text/plain": [
       "[15, 20, 30, 'xx', 40, [50, 60, 70], 'yy', 'zz']"
      ]
     },
     "execution_count": 172,
     "metadata": {},
     "output_type": "execute_result"
    }
   ],
   "source": [
    "l1"
   ]
  },
  {
   "cell_type": "code",
   "execution_count": 176,
   "id": "7bb61c42",
   "metadata": {},
   "outputs": [],
   "source": [
    "l1.insert(2,5)"
   ]
  },
  {
   "cell_type": "code",
   "execution_count": 177,
   "id": "cd6a8c84",
   "metadata": {},
   "outputs": [
    {
     "data": {
      "text/plain": [
       "[15, 20, 5, 5, 30, 'xx', 40, [50, 60, 70], 'yy', 'zz']"
      ]
     },
     "execution_count": 177,
     "metadata": {},
     "output_type": "execute_result"
    }
   ],
   "source": [
    "l1"
   ]
  },
  {
   "cell_type": "code",
   "execution_count": 178,
   "id": "0543ac33",
   "metadata": {},
   "outputs": [
    {
     "data": {
      "text/plain": [
       "'zz'"
      ]
     },
     "execution_count": 178,
     "metadata": {},
     "output_type": "execute_result"
    }
   ],
   "source": [
    "l1.pop()"
   ]
  },
  {
   "cell_type": "code",
   "execution_count": 179,
   "id": "1b8de46e",
   "metadata": {},
   "outputs": [
    {
     "data": {
      "text/plain": [
       "'yy'"
      ]
     },
     "execution_count": 179,
     "metadata": {},
     "output_type": "execute_result"
    }
   ],
   "source": [
    "l1.pop(-1)"
   ]
  },
  {
   "cell_type": "code",
   "execution_count": 180,
   "id": "2a540ed6",
   "metadata": {},
   "outputs": [
    {
     "data": {
      "text/plain": [
       "[15, 20, 5, 5, 30, 'xx', 40, [50, 60, 70]]"
      ]
     },
     "execution_count": 180,
     "metadata": {},
     "output_type": "execute_result"
    }
   ],
   "source": [
    "l1"
   ]
  },
  {
   "cell_type": "code",
   "execution_count": 181,
   "id": "9081c601",
   "metadata": {},
   "outputs": [],
   "source": [
    "del l1"
   ]
  },
  {
   "cell_type": "code",
   "execution_count": 182,
   "id": "ba5fa09f",
   "metadata": {},
   "outputs": [
    {
     "ename": "NameError",
     "evalue": "name 'l1' is not defined",
     "output_type": "error",
     "traceback": [
      "\u001b[1;31m---------------------------------------------------------------------------\u001b[0m",
      "\u001b[1;31mNameError\u001b[0m                                 Traceback (most recent call last)",
      "Input \u001b[1;32mIn [182]\u001b[0m, in \u001b[0;36m<cell line: 1>\u001b[1;34m()\u001b[0m\n\u001b[1;32m----> 1\u001b[0m \u001b[43ml1\u001b[49m\n",
      "\u001b[1;31mNameError\u001b[0m: name 'l1' is not defined"
     ]
    }
   ],
   "source": [
    "l1"
   ]
  },
  {
   "cell_type": "code",
   "execution_count": null,
   "id": "aaff40cb",
   "metadata": {},
   "outputs": [],
   "source": [
    "#Dictionary"
   ]
  },
  {
   "cell_type": "code",
   "execution_count": 184,
   "id": "c80033fb",
   "metadata": {},
   "outputs": [],
   "source": [
    "dict1={'xx':10,'yy':20,'zz':30}\n"
   ]
  },
  {
   "cell_type": "code",
   "execution_count": 186,
   "id": "d48c4dab",
   "metadata": {},
   "outputs": [
    {
     "data": {
      "text/plain": [
       "{'xx': 10, 'yy': 20, 'zz': 30}"
      ]
     },
     "execution_count": 186,
     "metadata": {},
     "output_type": "execute_result"
    }
   ],
   "source": [
    "dict1"
   ]
  },
  {
   "cell_type": "code",
   "execution_count": 187,
   "id": "d5961e96",
   "metadata": {},
   "outputs": [
    {
     "data": {
      "text/plain": [
       "10"
      ]
     },
     "execution_count": 187,
     "metadata": {},
     "output_type": "execute_result"
    }
   ],
   "source": [
    "dict1['xx']"
   ]
  },
  {
   "cell_type": "code",
   "execution_count": 188,
   "id": "189dc08d",
   "metadata": {},
   "outputs": [],
   "source": [
    "dict1['xx']=15"
   ]
  },
  {
   "cell_type": "code",
   "execution_count": 189,
   "id": "493bffc6",
   "metadata": {},
   "outputs": [
    {
     "data": {
      "text/plain": [
       "{'xx': 15, 'yy': 20, 'zz': 30}"
      ]
     },
     "execution_count": 189,
     "metadata": {},
     "output_type": "execute_result"
    }
   ],
   "source": [
    "dict1"
   ]
  },
  {
   "cell_type": "code",
   "execution_count": 190,
   "id": "c924f586",
   "metadata": {},
   "outputs": [
    {
     "data": {
      "text/plain": [
       "dict_keys(['xx', 'yy', 'zz'])"
      ]
     },
     "execution_count": 190,
     "metadata": {},
     "output_type": "execute_result"
    }
   ],
   "source": [
    "dict1.keys()"
   ]
  },
  {
   "cell_type": "code",
   "execution_count": 191,
   "id": "f3e09ad9",
   "metadata": {},
   "outputs": [
    {
     "data": {
      "text/plain": [
       "dict_values([15, 20, 30])"
      ]
     },
     "execution_count": 191,
     "metadata": {},
     "output_type": "execute_result"
    }
   ],
   "source": [
    "dict1.values()"
   ]
  },
  {
   "cell_type": "code",
   "execution_count": 192,
   "id": "25552901",
   "metadata": {},
   "outputs": [
    {
     "data": {
      "text/plain": [
       "dict_items([('xx', 15), ('yy', 20), ('zz', 30)])"
      ]
     },
     "execution_count": 192,
     "metadata": {},
     "output_type": "execute_result"
    }
   ],
   "source": [
    "dict1.items()"
   ]
  },
  {
   "cell_type": "code",
   "execution_count": 193,
   "id": "6c09e8f3",
   "metadata": {},
   "outputs": [],
   "source": [
    "#update"
   ]
  },
  {
   "cell_type": "code",
   "execution_count": 194,
   "id": "e3f01e43",
   "metadata": {},
   "outputs": [],
   "source": [
    "dict1.update({'ll':40,'mm':50})"
   ]
  },
  {
   "cell_type": "code",
   "execution_count": 195,
   "id": "8e98a1cc",
   "metadata": {},
   "outputs": [
    {
     "data": {
      "text/plain": [
       "{'xx': 15, 'yy': 20, 'zz': 30, 'll': 40, 'mm': 50}"
      ]
     },
     "execution_count": 195,
     "metadata": {},
     "output_type": "execute_result"
    }
   ],
   "source": [
    "dict1"
   ]
  },
  {
   "cell_type": "code",
   "execution_count": 196,
   "id": "abb0e0d6",
   "metadata": {},
   "outputs": [
    {
     "data": {
      "text/plain": [
       "50"
      ]
     },
     "execution_count": 196,
     "metadata": {},
     "output_type": "execute_result"
    }
   ],
   "source": [
    "dict1.pop('mm')"
   ]
  },
  {
   "cell_type": "code",
   "execution_count": 197,
   "id": "e6af342a",
   "metadata": {},
   "outputs": [
    {
     "data": {
      "text/plain": [
       "{'xx': 15, 'yy': 20, 'zz': 30, 'll': 40}"
      ]
     },
     "execution_count": 197,
     "metadata": {},
     "output_type": "execute_result"
    }
   ],
   "source": [
    "dict1"
   ]
  },
  {
   "cell_type": "code",
   "execution_count": 198,
   "id": "756b94db",
   "metadata": {},
   "outputs": [
    {
     "data": {
      "text/plain": [
       "{'xx': 15, 'yy': 20, 'zz': 30, 'll': 40}"
      ]
     },
     "execution_count": 198,
     "metadata": {},
     "output_type": "execute_result"
    }
   ],
   "source": [
    "dict1"
   ]
  },
  {
   "cell_type": "code",
   "execution_count": 201,
   "id": "be8f22b8",
   "metadata": {},
   "outputs": [
    {
     "ename": "KeyError",
     "evalue": "'mm'",
     "output_type": "error",
     "traceback": [
      "\u001b[1;31m---------------------------------------------------------------------------\u001b[0m",
      "\u001b[1;31mKeyError\u001b[0m                                  Traceback (most recent call last)",
      "Input \u001b[1;32mIn [201]\u001b[0m, in \u001b[0;36m<cell line: 1>\u001b[1;34m()\u001b[0m\n\u001b[1;32m----> 1\u001b[0m \u001b[43mdict1\u001b[49m\u001b[38;5;241;43m.\u001b[39;49m\u001b[43mpop\u001b[49m\u001b[43m(\u001b[49m\u001b[38;5;124;43m'\u001b[39;49m\u001b[38;5;124;43mmm\u001b[39;49m\u001b[38;5;124;43m'\u001b[39;49m\u001b[43m)\u001b[49m\n",
      "\u001b[1;31mKeyError\u001b[0m: 'mm'"
     ]
    }
   ],
   "source": [
    "dict1.pop('mm')"
   ]
  },
  {
   "cell_type": "code",
   "execution_count": 202,
   "id": "c930b820",
   "metadata": {},
   "outputs": [
    {
     "data": {
      "text/plain": [
       "{'xx': 15, 'yy': 20, 'zz': 30, 'll': 40}"
      ]
     },
     "execution_count": 202,
     "metadata": {},
     "output_type": "execute_result"
    }
   ],
   "source": [
    "dict1"
   ]
  },
  {
   "cell_type": "code",
   "execution_count": 203,
   "id": "9fa8331d",
   "metadata": {},
   "outputs": [
    {
     "data": {
      "text/plain": [
       "20"
      ]
     },
     "execution_count": 203,
     "metadata": {},
     "output_type": "execute_result"
    }
   ],
   "source": [
    "dict1.pop('yy')"
   ]
  },
  {
   "cell_type": "code",
   "execution_count": 205,
   "id": "a2fc2b3c",
   "metadata": {},
   "outputs": [
    {
     "data": {
      "text/plain": [
       "30"
      ]
     },
     "execution_count": 205,
     "metadata": {},
     "output_type": "execute_result"
    }
   ],
   "source": [
    "dict1.pop('zz','xx')"
   ]
  },
  {
   "cell_type": "code",
   "execution_count": 206,
   "id": "795cafdd",
   "metadata": {},
   "outputs": [
    {
     "data": {
      "text/plain": [
       "{'xx': 15, 'll': 40}"
      ]
     },
     "execution_count": 206,
     "metadata": {},
     "output_type": "execute_result"
    }
   ],
   "source": [
    "dict1"
   ]
  },
  {
   "cell_type": "code",
   "execution_count": 207,
   "id": "50800ba6",
   "metadata": {},
   "outputs": [
    {
     "data": {
      "text/plain": [
       "('ll', 40)"
      ]
     },
     "execution_count": 207,
     "metadata": {},
     "output_type": "execute_result"
    }
   ],
   "source": [
    "dict1.popitem()"
   ]
  },
  {
   "cell_type": "code",
   "execution_count": null,
   "id": "e003df68",
   "metadata": {},
   "outputs": [],
   "source": []
  },
  {
   "cell_type": "code",
   "execution_count": null,
   "id": "29c4b07a",
   "metadata": {},
   "outputs": [],
   "source": [
    "#tupple"
   ]
  },
  {
   "cell_type": "code",
   "execution_count": 10,
   "id": "5f763419",
   "metadata": {},
   "outputs": [],
   "source": [
    "t=(10,20,30,'xx')"
   ]
  },
  {
   "cell_type": "code",
   "execution_count": 7,
   "id": "b954b3e6",
   "metadata": {},
   "outputs": [],
   "source": [
    "t=()"
   ]
  },
  {
   "cell_type": "code",
   "execution_count": 8,
   "id": "d2c99965",
   "metadata": {},
   "outputs": [
    {
     "data": {
      "text/plain": [
       "()"
      ]
     },
     "execution_count": 8,
     "metadata": {},
     "output_type": "execute_result"
    }
   ],
   "source": [
    "t"
   ]
  },
  {
   "cell_type": "code",
   "execution_count": 9,
   "id": "3ea3f6d5",
   "metadata": {},
   "outputs": [
    {
     "data": {
      "text/plain": [
       "tuple"
      ]
     },
     "execution_count": 9,
     "metadata": {},
     "output_type": "execute_result"
    }
   ],
   "source": [
    "type(t)"
   ]
  },
  {
   "cell_type": "code",
   "execution_count": 11,
   "id": "028ddc51",
   "metadata": {},
   "outputs": [
    {
     "data": {
      "text/plain": [
       "10"
      ]
     },
     "execution_count": 11,
     "metadata": {},
     "output_type": "execute_result"
    }
   ],
   "source": [
    "t[0]"
   ]
  },
  {
   "cell_type": "code",
   "execution_count": 12,
   "id": "2a39d47e",
   "metadata": {},
   "outputs": [],
   "source": [
    "t1=(100, 10, 5, 25, 30, 35)"
   ]
  },
  {
   "cell_type": "code",
   "execution_count": 13,
   "id": "ad890c24",
   "metadata": {},
   "outputs": [
    {
     "data": {
      "text/plain": [
       "100"
      ]
     },
     "execution_count": 13,
     "metadata": {},
     "output_type": "execute_result"
    }
   ],
   "source": [
    "max(t1)"
   ]
  },
  {
   "cell_type": "code",
   "execution_count": 14,
   "id": "e8f0bc1c",
   "metadata": {},
   "outputs": [
    {
     "data": {
      "text/plain": [
       "5"
      ]
     },
     "execution_count": 14,
     "metadata": {},
     "output_type": "execute_result"
    }
   ],
   "source": [
    "min(t1)"
   ]
  },
  {
   "cell_type": "code",
   "execution_count": 15,
   "id": "f4744fbf",
   "metadata": {},
   "outputs": [
    {
     "data": {
      "text/plain": [
       "1"
      ]
     },
     "execution_count": 15,
     "metadata": {},
     "output_type": "execute_result"
    }
   ],
   "source": [
    "t1.count(30)"
   ]
  },
  {
   "cell_type": "code",
   "execution_count": null,
   "id": "887cb8be",
   "metadata": {},
   "outputs": [],
   "source": [
    "#set"
   ]
  },
  {
   "cell_type": "code",
   "execution_count": 16,
   "id": "b7f5212e",
   "metadata": {},
   "outputs": [],
   "source": [
    "s1=set(t1) #converting the tuple abve to Set"
   ]
  },
  {
   "cell_type": "code",
   "execution_count": 17,
   "id": "0d2dec70",
   "metadata": {},
   "outputs": [
    {
     "data": {
      "text/plain": [
       "set"
      ]
     },
     "execution_count": 17,
     "metadata": {},
     "output_type": "execute_result"
    }
   ],
   "source": [
    "type(s1)"
   ]
  },
  {
   "cell_type": "code",
   "execution_count": 18,
   "id": "cc3562cc",
   "metadata": {},
   "outputs": [
    {
     "data": {
      "text/plain": [
       "{5, 10, 25, 30, 35, 100}"
      ]
     },
     "execution_count": 18,
     "metadata": {},
     "output_type": "execute_result"
    }
   ],
   "source": [
    "s1"
   ]
  },
  {
   "cell_type": "code",
   "execution_count": 19,
   "id": "0317251c",
   "metadata": {},
   "outputs": [],
   "source": [
    "s1.add(50)"
   ]
  },
  {
   "cell_type": "code",
   "execution_count": 20,
   "id": "01933ef1",
   "metadata": {},
   "outputs": [
    {
     "data": {
      "text/plain": [
       "{5, 10, 25, 30, 35, 50, 100}"
      ]
     },
     "execution_count": 20,
     "metadata": {},
     "output_type": "execute_result"
    }
   ],
   "source": [
    "s1"
   ]
  },
  {
   "cell_type": "code",
   "execution_count": 21,
   "id": "8bd869e6",
   "metadata": {},
   "outputs": [
    {
     "ename": "TypeError",
     "evalue": "'set' object is not subscriptable",
     "output_type": "error",
     "traceback": [
      "\u001b[1;31m---------------------------------------------------------------------------\u001b[0m",
      "\u001b[1;31mTypeError\u001b[0m                                 Traceback (most recent call last)",
      "Input \u001b[1;32mIn [21]\u001b[0m, in \u001b[0;36m<cell line: 1>\u001b[1;34m()\u001b[0m\n\u001b[1;32m----> 1\u001b[0m \u001b[43ms1\u001b[49m\u001b[43m[\u001b[49m\u001b[38;5;241;43m0\u001b[39;49m\u001b[43m]\u001b[49m\n",
      "\u001b[1;31mTypeError\u001b[0m: 'set' object is not subscriptable"
     ]
    }
   ],
   "source": [
    "s1[0] #sets are not indexed"
   ]
  },
  {
   "cell_type": "code",
   "execution_count": 22,
   "id": "666e0946",
   "metadata": {},
   "outputs": [],
   "source": [
    "s2=set([10,20,30,40])"
   ]
  },
  {
   "cell_type": "code",
   "execution_count": 23,
   "id": "6b2ed69f",
   "metadata": {},
   "outputs": [
    {
     "data": {
      "text/plain": [
       "{10, 20, 30, 40}"
      ]
     },
     "execution_count": 23,
     "metadata": {},
     "output_type": "execute_result"
    }
   ],
   "source": [
    "s2"
   ]
  },
  {
   "cell_type": "code",
   "execution_count": 25,
   "id": "26cf7566",
   "metadata": {},
   "outputs": [],
   "source": [
    "s3=set(['xx', 'yy','zz'])"
   ]
  },
  {
   "cell_type": "code",
   "execution_count": 26,
   "id": "575652e0",
   "metadata": {},
   "outputs": [
    {
     "data": {
      "text/plain": [
       "{'xx', 'yy', 'zz'}"
      ]
     },
     "execution_count": 26,
     "metadata": {},
     "output_type": "execute_result"
    }
   ],
   "source": [
    "s3"
   ]
  },
  {
   "cell_type": "code",
   "execution_count": 27,
   "id": "ff925133",
   "metadata": {},
   "outputs": [],
   "source": [
    "s2=set(['xx','yy','zz','11'])"
   ]
  },
  {
   "cell_type": "code",
   "execution_count": 28,
   "id": "48a5e6ef",
   "metadata": {},
   "outputs": [
    {
     "data": {
      "text/plain": [
       "set()"
      ]
     },
     "execution_count": 28,
     "metadata": {},
     "output_type": "execute_result"
    }
   ],
   "source": [
    "s1.intersection(s2)"
   ]
  },
  {
   "cell_type": "code",
   "execution_count": 29,
   "id": "e647c9f8",
   "metadata": {},
   "outputs": [
    {
     "data": {
      "text/plain": [
       "{10, 100, '11', 25, 30, 35, 5, 50, 'xx', 'yy', 'zz'}"
      ]
     },
     "execution_count": 29,
     "metadata": {},
     "output_type": "execute_result"
    }
   ],
   "source": [
    "s1.union(s2)"
   ]
  },
  {
   "cell_type": "code",
   "execution_count": 30,
   "id": "25149942",
   "metadata": {},
   "outputs": [
    {
     "data": {
      "text/plain": [
       "False"
      ]
     },
     "execution_count": 30,
     "metadata": {},
     "output_type": "execute_result"
    }
   ],
   "source": [
    "s1.issubset(s2)"
   ]
  },
  {
   "cell_type": "code",
   "execution_count": 31,
   "id": "a6697e4d",
   "metadata": {},
   "outputs": [
    {
     "data": {
      "text/plain": [
       "False"
      ]
     },
     "execution_count": 31,
     "metadata": {},
     "output_type": "execute_result"
    }
   ],
   "source": [
    "s1.issuperset(s2)"
   ]
  },
  {
   "cell_type": "code",
   "execution_count": 32,
   "id": "a34da3de",
   "metadata": {},
   "outputs": [
    {
     "data": {
      "text/plain": [
       "False"
      ]
     },
     "execution_count": 32,
     "metadata": {},
     "output_type": "execute_result"
    }
   ],
   "source": [
    "s2.issuperset(s1)"
   ]
  },
  {
   "cell_type": "code",
   "execution_count": null,
   "id": "8ca19656",
   "metadata": {},
   "outputs": [],
   "source": []
  },
  {
   "cell_type": "code",
   "execution_count": null,
   "id": "f69d36f7",
   "metadata": {},
   "outputs": [],
   "source": [
    "#Numpy and Array "
   ]
  },
  {
   "cell_type": "code",
   "execution_count": 35,
   "id": "08f1ffd6",
   "metadata": {},
   "outputs": [],
   "source": [
    "import numpy as np"
   ]
  },
  {
   "cell_type": "code",
   "execution_count": 36,
   "id": "ab77d344",
   "metadata": {},
   "outputs": [],
   "source": [
    "an_array=np.array([3, 33, 333]) #rank 1 array"
   ]
  },
  {
   "cell_type": "code",
   "execution_count": 37,
   "id": "869fb6c0",
   "metadata": {},
   "outputs": [
    {
     "data": {
      "text/plain": [
       "array([  3,  33, 333])"
      ]
     },
     "execution_count": 37,
     "metadata": {},
     "output_type": "execute_result"
    }
   ],
   "source": [
    "an_array"
   ]
  },
  {
   "cell_type": "code",
   "execution_count": 38,
   "id": "c570950e",
   "metadata": {},
   "outputs": [
    {
     "data": {
      "text/plain": [
       "numpy.ndarray"
      ]
     },
     "execution_count": 38,
     "metadata": {},
     "output_type": "execute_result"
    }
   ],
   "source": [
    "type(an_array)"
   ]
  },
  {
   "cell_type": "code",
   "execution_count": 39,
   "id": "51cec5ca",
   "metadata": {},
   "outputs": [
    {
     "data": {
      "text/plain": [
       "3"
      ]
     },
     "execution_count": 39,
     "metadata": {},
     "output_type": "execute_result"
    }
   ],
   "source": [
    "an_array[0]"
   ]
  },
  {
   "cell_type": "code",
   "execution_count": 40,
   "id": "721e02ce",
   "metadata": {},
   "outputs": [
    {
     "data": {
      "text/plain": [
       "33"
      ]
     },
     "execution_count": 40,
     "metadata": {},
     "output_type": "execute_result"
    }
   ],
   "source": [
    "an_array[1]"
   ]
  },
  {
   "cell_type": "code",
   "execution_count": 41,
   "id": "bd425f8b",
   "metadata": {},
   "outputs": [],
   "source": [
    "an_array[1]=55"
   ]
  },
  {
   "cell_type": "code",
   "execution_count": 42,
   "id": "e0cfc8ef",
   "metadata": {},
   "outputs": [
    {
     "data": {
      "text/plain": [
       "array([  3,  55, 333])"
      ]
     },
     "execution_count": 42,
     "metadata": {},
     "output_type": "execute_result"
    }
   ],
   "source": [
    "an_array"
   ]
  },
  {
   "cell_type": "code",
   "execution_count": 43,
   "id": "b17dcc25",
   "metadata": {},
   "outputs": [
    {
     "data": {
      "text/plain": [
       "(3,)"
      ]
     },
     "execution_count": 43,
     "metadata": {},
     "output_type": "execute_result"
    }
   ],
   "source": [
    "an_array.shape"
   ]
  },
  {
   "cell_type": "code",
   "execution_count": 52,
   "id": "99884227",
   "metadata": {},
   "outputs": [],
   "source": [
    "an_array1=np.array([[55,60,65,70],[75,80,85,90]])"
   ]
  },
  {
   "cell_type": "code",
   "execution_count": 53,
   "id": "b9cf79ab",
   "metadata": {},
   "outputs": [
    {
     "data": {
      "text/plain": [
       "array([[55, 60, 65, 70],\n",
       "       [75, 80, 85, 90]])"
      ]
     },
     "execution_count": 53,
     "metadata": {},
     "output_type": "execute_result"
    }
   ],
   "source": [
    "an_array1"
   ]
  },
  {
   "cell_type": "code",
   "execution_count": 54,
   "id": "5b0a65fd",
   "metadata": {},
   "outputs": [
    {
     "data": {
      "text/plain": [
       "(3,)"
      ]
     },
     "execution_count": 54,
     "metadata": {},
     "output_type": "execute_result"
    }
   ],
   "source": [
    "an_array.shape"
   ]
  },
  {
   "cell_type": "code",
   "execution_count": 138,
   "id": "4510ef3d",
   "metadata": {},
   "outputs": [
    {
     "name": "stderr",
     "output_type": "stream",
     "text": [
      "C:\\Users\\TOSHIBA\\AppData\\Local\\Temp\\ipykernel_18704\\3775560434.py:1: VisibleDeprecationWarning: Creating an ndarray from ragged nested sequences (which is a list-or-tuple of lists-or-tuples-or ndarrays with different lengths or shapes) is deprecated. If you meant to do this, you must specify 'dtype=object' when creating the ndarray.\n",
      "  an_array2=np.array([[10,20,30,],[40,50]])\n"
     ]
    }
   ],
   "source": [
    "an_array2=np.array([[10,20,30,],[40,50]])"
   ]
  },
  {
   "cell_type": "code",
   "execution_count": 57,
   "id": "a3be146a",
   "metadata": {},
   "outputs": [
    {
     "data": {
      "text/plain": [
       "array([list([10, 20, 30]), list([40, 50])], dtype=object)"
      ]
     },
     "execution_count": 57,
     "metadata": {},
     "output_type": "execute_result"
    }
   ],
   "source": [
    "an_array2"
   ]
  },
  {
   "cell_type": "code",
   "execution_count": 56,
   "id": "152e88c2",
   "metadata": {},
   "outputs": [
    {
     "data": {
      "text/plain": [
       "array([[55, 60, 65, 70],\n",
       "       [75, 80, 85, 90]])"
      ]
     },
     "execution_count": 56,
     "metadata": {},
     "output_type": "execute_result"
    }
   ],
   "source": [
    "an_array1"
   ]
  },
  {
   "cell_type": "code",
   "execution_count": 58,
   "id": "715d2d04",
   "metadata": {},
   "outputs": [],
   "source": [
    "ex1=np.zeros([2,2])  #inbuilt functions - it will be prefilled by zeros"
   ]
  },
  {
   "cell_type": "code",
   "execution_count": 59,
   "id": "2db911b9",
   "metadata": {},
   "outputs": [
    {
     "data": {
      "text/plain": [
       "array([[0., 0.],\n",
       "       [0., 0.]])"
      ]
     },
     "execution_count": 59,
     "metadata": {},
     "output_type": "execute_result"
    }
   ],
   "source": [
    "ex1"
   ]
  },
  {
   "cell_type": "code",
   "execution_count": 60,
   "id": "bcd24a6d",
   "metadata": {},
   "outputs": [],
   "source": [
    "ex2=np.ones([2,2])  #inbuilt functions - it will be prefilled by one"
   ]
  },
  {
   "cell_type": "code",
   "execution_count": 61,
   "id": "3362039e",
   "metadata": {},
   "outputs": [
    {
     "data": {
      "text/plain": [
       "array([[1., 1.],\n",
       "       [1., 1.]])"
      ]
     },
     "execution_count": 61,
     "metadata": {},
     "output_type": "execute_result"
    }
   ],
   "source": [
    "ex2"
   ]
  },
  {
   "cell_type": "code",
   "execution_count": 63,
   "id": "fd19751a",
   "metadata": {},
   "outputs": [],
   "source": [
    "ex3=np.eye(3,3)"
   ]
  },
  {
   "cell_type": "code",
   "execution_count": 64,
   "id": "8f0322c1",
   "metadata": {},
   "outputs": [
    {
     "data": {
      "text/plain": [
       "array([[1., 0., 0.],\n",
       "       [0., 1., 0.],\n",
       "       [0., 0., 1.]])"
      ]
     },
     "execution_count": 64,
     "metadata": {},
     "output_type": "execute_result"
    }
   ],
   "source": [
    "ex3"
   ]
  },
  {
   "cell_type": "code",
   "execution_count": 68,
   "id": "868935c7",
   "metadata": {},
   "outputs": [],
   "source": [
    "ex4=np.full((2,2),9.0)"
   ]
  },
  {
   "cell_type": "code",
   "execution_count": 69,
   "id": "3e8ae55e",
   "metadata": {},
   "outputs": [
    {
     "data": {
      "text/plain": [
       "array([[9., 9.],\n",
       "       [9., 9.]])"
      ]
     },
     "execution_count": 69,
     "metadata": {},
     "output_type": "execute_result"
    }
   ],
   "source": [
    "ex4"
   ]
  },
  {
   "cell_type": "code",
   "execution_count": 72,
   "id": "4a64ce31",
   "metadata": {},
   "outputs": [],
   "source": [
    "an_array3=np.array([[11,12,13,14,],[15,16,17,18],[19,20,21,22]])"
   ]
  },
  {
   "cell_type": "code",
   "execution_count": 73,
   "id": "382f78a3",
   "metadata": {},
   "outputs": [
    {
     "data": {
      "text/plain": [
       "array([[11, 12, 13, 14],\n",
       "       [15, 16, 17, 18],\n",
       "       [19, 20, 21, 22]])"
      ]
     },
     "execution_count": 73,
     "metadata": {},
     "output_type": "execute_result"
    }
   ],
   "source": [
    "an_array3"
   ]
  },
  {
   "cell_type": "code",
   "execution_count": 74,
   "id": "df590d77",
   "metadata": {},
   "outputs": [
    {
     "data": {
      "text/plain": [
       "array([15, 16, 17, 18])"
      ]
     },
     "execution_count": 74,
     "metadata": {},
     "output_type": "execute_result"
    }
   ],
   "source": [
    "an_array3[1]"
   ]
  },
  {
   "cell_type": "code",
   "execution_count": 78,
   "id": "6d0f0e13",
   "metadata": {},
   "outputs": [
    {
     "data": {
      "text/plain": [
       "array([[15, 16, 17, 18],\n",
       "       [19, 20, 21, 22]])"
      ]
     },
     "execution_count": 78,
     "metadata": {},
     "output_type": "execute_result"
    }
   ],
   "source": [
    "an_array3[1:3]"
   ]
  },
  {
   "cell_type": "markdown",
   "id": "f1c3d90c",
   "metadata": {},
   "source": [
    "an_array3[:,1:3]"
   ]
  },
  {
   "cell_type": "code",
   "execution_count": null,
   "id": "be7923a8",
   "metadata": {},
   "outputs": [],
   "source": []
  },
  {
   "cell_type": "code",
   "execution_count": 79,
   "id": "26c414dc",
   "metadata": {},
   "outputs": [
    {
     "data": {
      "text/plain": [
       "array([[12, 13],\n",
       "       [16, 17],\n",
       "       [20, 21]])"
      ]
     },
     "execution_count": 79,
     "metadata": {},
     "output_type": "execute_result"
    }
   ],
   "source": [
    "an_array3[:,1:3]"
   ]
  },
  {
   "cell_type": "code",
   "execution_count": 80,
   "id": "6e1dbf3b",
   "metadata": {},
   "outputs": [
    {
     "data": {
      "text/plain": [
       "array([[12, 13],\n",
       "       [16, 17],\n",
       "       [20, 21]])"
      ]
     },
     "execution_count": 80,
     "metadata": {},
     "output_type": "execute_result"
    }
   ],
   "source": [
    "an_array3[:,1:3]"
   ]
  },
  {
   "cell_type": "code",
   "execution_count": 81,
   "id": "e5eac4b6",
   "metadata": {},
   "outputs": [
    {
     "data": {
      "text/plain": [
       "array([[15, 16, 17, 18],\n",
       "       [19, 20, 21, 22]])"
      ]
     },
     "execution_count": 81,
     "metadata": {},
     "output_type": "execute_result"
    }
   ],
   "source": [
    "an_array3[1:3,]"
   ]
  },
  {
   "cell_type": "code",
   "execution_count": 83,
   "id": "df00a7d6",
   "metadata": {},
   "outputs": [
    {
     "data": {
      "text/plain": [
       "array([[11, 12, 13, 14],\n",
       "       [15, 16, 17, 18],\n",
       "       [19, 20, 21, 22]])"
      ]
     },
     "execution_count": 83,
     "metadata": {},
     "output_type": "execute_result"
    }
   ],
   "source": [
    "an_array3"
   ]
  },
  {
   "cell_type": "code",
   "execution_count": 82,
   "id": "0d87de9a",
   "metadata": {},
   "outputs": [
    {
     "data": {
      "text/plain": [
       "array([[12, 13],\n",
       "       [16, 17],\n",
       "       [20, 21]])"
      ]
     },
     "execution_count": 82,
     "metadata": {},
     "output_type": "execute_result"
    }
   ],
   "source": [
    "an_array3[:,1:3]"
   ]
  },
  {
   "cell_type": "code",
   "execution_count": 84,
   "id": "cc58c568",
   "metadata": {},
   "outputs": [],
   "source": [
    "an_array4=np.array([[11,12],[15,16],[17,18]])"
   ]
  },
  {
   "cell_type": "code",
   "execution_count": 85,
   "id": "fafdbfdc",
   "metadata": {},
   "outputs": [
    {
     "data": {
      "text/plain": [
       "array([[11, 12],\n",
       "       [15, 16],\n",
       "       [17, 18]])"
      ]
     },
     "execution_count": 85,
     "metadata": {},
     "output_type": "execute_result"
    }
   ],
   "source": [
    "an_array4"
   ]
  },
  {
   "cell_type": "code",
   "execution_count": 87,
   "id": "3591c0b6",
   "metadata": {},
   "outputs": [],
   "source": [
    "filter1=(an_array4>15)"
   ]
  },
  {
   "cell_type": "code",
   "execution_count": 89,
   "id": "a1c58b93",
   "metadata": {},
   "outputs": [
    {
     "data": {
      "text/plain": [
       "array([[False, False],\n",
       "       [False,  True],\n",
       "       [ True,  True]])"
      ]
     },
     "execution_count": 89,
     "metadata": {},
     "output_type": "execute_result"
    }
   ],
   "source": [
    "filter1"
   ]
  },
  {
   "cell_type": "code",
   "execution_count": 90,
   "id": "15f329a8",
   "metadata": {},
   "outputs": [],
   "source": [
    "filter2=(an_array4%2==0)"
   ]
  },
  {
   "cell_type": "code",
   "execution_count": 91,
   "id": "3cda6822",
   "metadata": {},
   "outputs": [
    {
     "data": {
      "text/plain": [
       "array([[False,  True],\n",
       "       [False,  True],\n",
       "       [False,  True]])"
      ]
     },
     "execution_count": 91,
     "metadata": {},
     "output_type": "execute_result"
    }
   ],
   "source": [
    "filter2"
   ]
  },
  {
   "cell_type": "code",
   "execution_count": 92,
   "id": "b6168a26",
   "metadata": {},
   "outputs": [
    {
     "data": {
      "text/plain": [
       "array([12, 16, 18])"
      ]
     },
     "execution_count": 92,
     "metadata": {},
     "output_type": "execute_result"
    }
   ],
   "source": [
    "an_array4[filter2]"
   ]
  },
  {
   "cell_type": "code",
   "execution_count": 93,
   "id": "10ae7818",
   "metadata": {},
   "outputs": [],
   "source": [
    "array1=np.array([11,12],dtype=np.float64)"
   ]
  },
  {
   "cell_type": "code",
   "execution_count": 94,
   "id": "f15d2ea4",
   "metadata": {},
   "outputs": [
    {
     "data": {
      "text/plain": [
       "array([11., 12.])"
      ]
     },
     "execution_count": 94,
     "metadata": {},
     "output_type": "execute_result"
    }
   ],
   "source": [
    "array1"
   ]
  },
  {
   "cell_type": "code",
   "execution_count": 98,
   "id": "44772b7d",
   "metadata": {},
   "outputs": [],
   "source": [
    "array2=np.array([11.5,12.5],dtype=np.int64)"
   ]
  },
  {
   "cell_type": "code",
   "execution_count": 96,
   "id": "7f815c5f",
   "metadata": {},
   "outputs": [
    {
     "data": {
      "text/plain": [
       "array([11, 12], dtype=int64)"
      ]
     },
     "execution_count": 96,
     "metadata": {},
     "output_type": "execute_result"
    }
   ],
   "source": [
    "array2"
   ]
  },
  {
   "cell_type": "code",
   "execution_count": 101,
   "id": "208b2bd2",
   "metadata": {},
   "outputs": [],
   "source": [
    "x=np.array([[111,120],[121,122]])\n",
    "y=np.array([[550,600],[125,130]])"
   ]
  },
  {
   "cell_type": "code",
   "execution_count": 102,
   "id": "9d44ae5c",
   "metadata": {},
   "outputs": [],
   "source": [
    "z=x+y"
   ]
  },
  {
   "cell_type": "code",
   "execution_count": 103,
   "id": "3378da1c",
   "metadata": {},
   "outputs": [
    {
     "data": {
      "text/plain": [
       "array([[661, 720],\n",
       "       [246, 252]])"
      ]
     },
     "execution_count": 103,
     "metadata": {},
     "output_type": "execute_result"
    }
   ],
   "source": [
    "z"
   ]
  },
  {
   "cell_type": "code",
   "execution_count": 108,
   "id": "32fbbccd",
   "metadata": {},
   "outputs": [],
   "source": [
    "z=np.add(x,y)"
   ]
  },
  {
   "cell_type": "code",
   "execution_count": 109,
   "id": "c0cb7dcd",
   "metadata": {},
   "outputs": [
    {
     "data": {
      "text/plain": [
       "array([[661, 720],\n",
       "       [246, 252]])"
      ]
     },
     "execution_count": 109,
     "metadata": {},
     "output_type": "execute_result"
    }
   ],
   "source": [
    "z"
   ]
  },
  {
   "cell_type": "code",
   "execution_count": 110,
   "id": "cbd8fa09",
   "metadata": {},
   "outputs": [],
   "source": [
    "z1=np.multiply(x,y)"
   ]
  },
  {
   "cell_type": "code",
   "execution_count": 111,
   "id": "d322ce83",
   "metadata": {},
   "outputs": [
    {
     "data": {
      "text/plain": [
       "array([[61050, 72000],\n",
       "       [15125, 15860]])"
      ]
     },
     "execution_count": 111,
     "metadata": {},
     "output_type": "execute_result"
    }
   ],
   "source": [
    "z1"
   ]
  },
  {
   "cell_type": "code",
   "execution_count": 112,
   "id": "55c546cd",
   "metadata": {},
   "outputs": [],
   "source": [
    "z2=np.subtract(x,y)"
   ]
  },
  {
   "cell_type": "code",
   "execution_count": 113,
   "id": "42928f11",
   "metadata": {},
   "outputs": [
    {
     "data": {
      "text/plain": [
       "array([[-439, -480],\n",
       "       [  -4,   -8]])"
      ]
     },
     "execution_count": 113,
     "metadata": {},
     "output_type": "execute_result"
    }
   ],
   "source": [
    "z2"
   ]
  },
  {
   "cell_type": "code",
   "execution_count": 114,
   "id": "8e076e78",
   "metadata": {},
   "outputs": [],
   "source": [
    "z3=np.divide(x,y)"
   ]
  },
  {
   "cell_type": "code",
   "execution_count": 115,
   "id": "45d6e5c6",
   "metadata": {},
   "outputs": [
    {
     "data": {
      "text/plain": [
       "array([[0.20181818, 0.2       ],\n",
       "       [0.968     , 0.93846154]])"
      ]
     },
     "execution_count": 115,
     "metadata": {},
     "output_type": "execute_result"
    }
   ],
   "source": [
    "z3"
   ]
  },
  {
   "cell_type": "code",
   "execution_count": 116,
   "id": "6217dafb",
   "metadata": {},
   "outputs": [],
   "source": [
    "filter3=(x>5)"
   ]
  },
  {
   "cell_type": "code",
   "execution_count": 117,
   "id": "a45ce5a0",
   "metadata": {},
   "outputs": [
    {
     "data": {
      "text/plain": [
       "array([[ True,  True],\n",
       "       [ True,  True]])"
      ]
     },
     "execution_count": 117,
     "metadata": {},
     "output_type": "execute_result"
    }
   ],
   "source": [
    "filter3"
   ]
  },
  {
   "cell_type": "code",
   "execution_count": 118,
   "id": "522e6fd8",
   "metadata": {},
   "outputs": [],
   "source": [
    "z=x>y"
   ]
  },
  {
   "cell_type": "code",
   "execution_count": 119,
   "id": "5a567817",
   "metadata": {},
   "outputs": [
    {
     "data": {
      "text/plain": [
       "array([[False, False],\n",
       "       [False, False]])"
      ]
     },
     "execution_count": 119,
     "metadata": {},
     "output_type": "execute_result"
    }
   ],
   "source": [
    "z"
   ]
  },
  {
   "cell_type": "code",
   "execution_count": 123,
   "id": "af161440",
   "metadata": {},
   "outputs": [],
   "source": [
    "arr=10*np.random.randn(2,5)"
   ]
  },
  {
   "cell_type": "code",
   "execution_count": 125,
   "id": "b3df3036",
   "metadata": {},
   "outputs": [
    {
     "data": {
      "text/plain": [
       "array([[ -9.20944965,  -7.05511127, -15.71788229,  -9.01051694,\n",
       "          4.65774669],\n",
       "       [ 12.40863558, -19.67910713,   0.48987803,   2.52355441,\n",
       "          8.51972664]])"
      ]
     },
     "execution_count": 125,
     "metadata": {},
     "output_type": "execute_result"
    }
   ],
   "source": [
    "arr"
   ]
  },
  {
   "cell_type": "code",
   "execution_count": 126,
   "id": "a0cf111a",
   "metadata": {},
   "outputs": [
    {
     "name": "stdout",
     "output_type": "stream",
     "text": [
      "-3.207252592665075\n"
     ]
    }
   ],
   "source": [
    "print(arr.mean())"
   ]
  },
  {
   "cell_type": "code",
   "execution_count": 127,
   "id": "bc9a80ed",
   "metadata": {},
   "outputs": [
    {
     "name": "stdout",
     "output_type": "stream",
     "text": [
      "[-7.26704269  0.85253751]\n"
     ]
    }
   ],
   "source": [
    "print(arr.mean(axis=1)) #axis =1 for row"
   ]
  },
  {
   "cell_type": "code",
   "execution_count": 128,
   "id": "15434a59",
   "metadata": {},
   "outputs": [
    {
     "name": "stdout",
     "output_type": "stream",
     "text": [
      "[  1.59959297 -13.3671092   -7.61400213  -3.24348126   6.58873666]\n"
     ]
    }
   ],
   "source": [
    "print(arr.mean(axis=0)) #axis for col"
   ]
  },
  {
   "cell_type": "code",
   "execution_count": 130,
   "id": "df070188",
   "metadata": {},
   "outputs": [
    {
     "name": "stdout",
     "output_type": "stream",
     "text": [
      "-32.07252592665075\n"
     ]
    }
   ],
   "source": [
    "print(arr.sum())"
   ]
  },
  {
   "cell_type": "code",
   "execution_count": 131,
   "id": "7895b0d8",
   "metadata": {},
   "outputs": [
    {
     "data": {
      "text/plain": [
       "-32.07252592665075"
      ]
     },
     "execution_count": 131,
     "metadata": {},
     "output_type": "execute_result"
    }
   ],
   "source": [
    "arr.sum()"
   ]
  },
  {
   "cell_type": "code",
   "execution_count": 132,
   "id": "085824cc",
   "metadata": {},
   "outputs": [
    {
     "name": "stdout",
     "output_type": "stream",
     "text": [
      "-3.207252592665075\n"
     ]
    }
   ],
   "source": [
    "print(arr.mean())"
   ]
  },
  {
   "cell_type": "code",
   "execution_count": 133,
   "id": "e2e8c0b9",
   "metadata": {},
   "outputs": [],
   "source": [
    "x1=np.array(['xx','yy','zz'])\n",
    "x2=np.array(['xx','yy','zz','11'])"
   ]
  },
  {
   "cell_type": "code",
   "execution_count": 134,
   "id": "0fecd14a",
   "metadata": {},
   "outputs": [
    {
     "data": {
      "text/plain": [
       "array(['xx', 'yy', 'zz'], dtype='<U2')"
      ]
     },
     "execution_count": 134,
     "metadata": {},
     "output_type": "execute_result"
    }
   ],
   "source": [
    "np.intersect1d(x1,x2)"
   ]
  },
  {
   "cell_type": "code",
   "execution_count": 135,
   "id": "d8bfdb4b",
   "metadata": {},
   "outputs": [
    {
     "data": {
      "text/plain": [
       "array(['11', 'xx', 'yy', 'zz'], dtype='<U2')"
      ]
     },
     "execution_count": 135,
     "metadata": {},
     "output_type": "execute_result"
    }
   ],
   "source": [
    "np.union1d(x1,x2)"
   ]
  },
  {
   "cell_type": "code",
   "execution_count": 136,
   "id": "4ae39035",
   "metadata": {},
   "outputs": [
    {
     "data": {
      "text/plain": [
       "array([], dtype='<U2')"
      ]
     },
     "execution_count": 136,
     "metadata": {},
     "output_type": "execute_result"
    }
   ],
   "source": [
    "np.setdiff1d(x1,x2)"
   ]
  },
  {
   "cell_type": "code",
   "execution_count": 137,
   "id": "a2c862ad",
   "metadata": {},
   "outputs": [
    {
     "data": {
      "text/plain": [
       "array(['11'], dtype='<U2')"
      ]
     },
     "execution_count": 137,
     "metadata": {},
     "output_type": "execute_result"
    }
   ],
   "source": [
    "np.setdiff1d(x2,x1)"
   ]
  },
  {
   "cell_type": "code",
   "execution_count": null,
   "id": "d897b606",
   "metadata": {},
   "outputs": [],
   "source": []
  }
 ],
 "metadata": {
  "kernelspec": {
   "display_name": "Python 3 (ipykernel)",
   "language": "python",
   "name": "python3"
  },
  "language_info": {
   "codemirror_mode": {
    "name": "ipython",
    "version": 3
   },
   "file_extension": ".py",
   "mimetype": "text/x-python",
   "name": "python",
   "nbconvert_exporter": "python",
   "pygments_lexer": "ipython3",
   "version": "3.9.12"
  }
 },
 "nbformat": 4,
 "nbformat_minor": 5
}
